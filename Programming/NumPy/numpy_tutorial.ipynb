{
 "cells": [
  {
   "cell_type": "code",
   "execution_count": 2,
   "metadata": {},
   "outputs": [],
   "source": [
    "import numpy as np"
   ]
  },
  {
   "cell_type": "code",
   "execution_count": 1,
   "metadata": {},
   "outputs": [
    {
     "name": "stdout",
     "output_type": "stream",
     "text": [
      "[1 2 3 4 5]\n"
     ]
    }
   ],
   "source": [
    "import numpy\n",
    "arr = numpy.array([1,2,3,4,5])\n",
    "print(arr)"
   ]
  },
  {
   "cell_type": "code",
   "execution_count": 2,
   "metadata": {},
   "outputs": [
    {
     "name": "stdout",
     "output_type": "stream",
     "text": [
      "[1 2 3 4 5]\n"
     ]
    }
   ],
   "source": [
    "import numpy as np \n",
    "arr = np.array([1,2,3,4,5])\n",
    "print(arr)"
   ]
  },
  {
   "cell_type": "code",
   "execution_count": 3,
   "metadata": {},
   "outputs": [
    {
     "name": "stdout",
     "output_type": "stream",
     "text": [
      "2.1.0\n"
     ]
    }
   ],
   "source": [
    "# numpy version\n",
    "print(np.__version__)"
   ]
  },
  {
   "cell_type": "code",
   "execution_count": 6,
   "metadata": {},
   "outputs": [
    {
     "name": "stdout",
     "output_type": "stream",
     "text": [
      "[1 2 3 4 5]\n",
      "<class 'numpy.ndarray'>\n"
     ]
    }
   ],
   "source": [
    "# the array object in numpy is called ndarray\n",
    "import numpy as np\n",
    "arr = np.array([1,2,3,4,5])\n",
    "print(arr)\n",
    "print(type(arr))"
   ]
  },
  {
   "cell_type": "code",
   "execution_count": 8,
   "metadata": {},
   "outputs": [
    {
     "name": "stdout",
     "output_type": "stream",
     "text": [
      "(1, 2, 3, 4, 5)\n",
      "<class 'tuple'>\n",
      "[1 2 3 4 5]\n",
      "<class 'numpy.ndarray'>\n"
     ]
    }
   ],
   "source": [
    "# creating a numpy array using tuple, list or any array-like object\n",
    "t = (1,2,3,4,5)\n",
    "print(t)\n",
    "print(type(t))\n",
    "arr = np.array(t)\n",
    "print(arr)\n",
    "print(type(arr))"
   ]
  },
  {
   "cell_type": "code",
   "execution_count": null,
   "metadata": {},
   "outputs": [
    {
     "name": "stdout",
     "output_type": "stream",
     "text": [
      "10\n",
      "<class 'numpy.ndarray'>\n"
     ]
    }
   ],
   "source": [
    "# 0-D arrays or scalars\n",
    "import numpy as np\n",
    "arr = np.array(10)\n",
    "print(arr)\n",
    "print(type(arr))"
   ]
  },
  {
   "cell_type": "code",
   "execution_count": null,
   "metadata": {},
   "outputs": [
    {
     "name": "stdout",
     "output_type": "stream",
     "text": [
      "[1 2 3 4 5] <class 'numpy.ndarray'>\n"
     ]
    }
   ],
   "source": [
    "# 1-D arrays -> represent a vector\n",
    "import numpy as np\n",
    "arr = np.array([1,2,3,4,5])\n",
    "print(arr,type(arr))"
   ]
  },
  {
   "cell_type": "code",
   "execution_count": null,
   "metadata": {},
   "outputs": [
    {
     "name": "stdout",
     "output_type": "stream",
     "text": [
      "[[1 2 3]\n",
      " [4 5 6]] <class 'numpy.ndarray'>\n"
     ]
    }
   ],
   "source": [
    "# 2-D array -> used to represent a matrix or 2nd order tensors\n",
    "import numpy as np\n",
    "arr = np.array([[1,2,3],[4,5,6]])\n",
    "print(arr,type(arr))"
   ]
  },
  {
   "cell_type": "code",
   "execution_count": 15,
   "metadata": {},
   "outputs": [
    {
     "name": "stdout",
     "output_type": "stream",
     "text": [
      "[[[1 2 3]\n",
      "  [4 5 6]]\n",
      "\n",
      " [[1 2 3]\n",
      "  [4 5 6]]]\n"
     ]
    }
   ],
   "source": [
    "# 3-D array -> used to represent 3rd order tensors\n",
    "import numpy as np\n",
    "arr = np.array([[[1,2,3],[4,5,6]],[[1,2,3],[4,5,6]]])\n",
    "print(arr)"
   ]
  },
  {
   "cell_type": "code",
   "execution_count": null,
   "metadata": {},
   "outputs": [
    {
     "name": "stdout",
     "output_type": "stream",
     "text": [
      "0\n",
      "1\n",
      "2\n",
      "3\n"
     ]
    }
   ],
   "source": [
    "# number of dimensions: 'ndim' attribute\n",
    "a = np.array(10)\n",
    "print(a.ndim)\n",
    "b = np.array([1,2,3,4,5])\n",
    "print(b.ndim)\n",
    "c = np.array([[1,2,3],[4,5,6]])\n",
    "print(c.ndim)\n",
    "d = np.array([[[1,2,3],[4,5,6]],[[1,2,3],[4,5,6]]])\n",
    "print(d.ndim)"
   ]
  },
  {
   "cell_type": "code",
   "execution_count": 17,
   "metadata": {},
   "outputs": [
    {
     "name": "stdout",
     "output_type": "stream",
     "text": [
      "[[[[[1 2 3 4]]]]]\n",
      "number of dimensions: 5\n"
     ]
    }
   ],
   "source": [
    "# minimum number of dimensions using 'ndmin' argument\n",
    "import numpy as np\n",
    "arr = np.array([1,2,3,4], ndmin=5)\n",
    "print(arr)\n",
    "print(\"number of dimensions:\",arr.ndim)"
   ]
  },
  {
   "cell_type": "code",
   "execution_count": null,
   "metadata": {},
   "outputs": [],
   "source": [
    "# 2d array: (rows,cols)\n",
    "# 3d array: (depth,rows,cols)"
   ]
  },
  {
   "cell_type": "code",
   "execution_count": null,
   "metadata": {},
   "outputs": [],
   "source": [
    "# access array element using index"
   ]
  },
  {
   "cell_type": "code",
   "execution_count": 19,
   "metadata": {},
   "outputs": [
    {
     "name": "stdout",
     "output_type": "stream",
     "text": [
      "10\n",
      "20\n",
      "80\n"
     ]
    }
   ],
   "source": [
    "# 1d array\n",
    "import numpy as np\n",
    "arr = np.array([10,20,30,40,50])\n",
    "print(arr[0])\n",
    "print(arr[1])\n",
    "print(arr[2]+arr[4])"
   ]
  },
  {
   "cell_type": "code",
   "execution_count": 23,
   "metadata": {},
   "outputs": [
    {
     "name": "stdout",
     "output_type": "stream",
     "text": [
      "2nd element on 1st row is 2\n",
      "5th element on 2nd row is 10\n"
     ]
    }
   ],
   "source": [
    "# 2d array: arr[row,col]\n",
    "import numpy as np\n",
    "arr = np.array([[1,2,3,4,5],[6,7,8,9,10]])\n",
    "print(\"2nd element on 1st row is\",arr[0,1])\n",
    "print(\"5th element on 2nd row is\",arr[1,4])\n"
   ]
  },
  {
   "cell_type": "code",
   "execution_count": 25,
   "metadata": {},
   "outputs": [
    {
     "name": "stdout",
     "output_type": "stream",
     "text": [
      "6\n"
     ]
    }
   ],
   "source": [
    "# 3d array: arr[depth,row,col] or [d,r,c]\n",
    "import numpy as np\n",
    "arr = np.array([[[1,2,3],[4,5,6]],[[1,2,3],[4,5,6]]])\n",
    "# access the 3rd element(c) of the 2nd array(r) of the 1st array(d)\n",
    "print(arr[0,1,2])"
   ]
  },
  {
   "cell_type": "code",
   "execution_count": 29,
   "metadata": {},
   "outputs": [
    {
     "name": "stdout",
     "output_type": "stream",
     "text": [
      "10\n",
      "10\n"
     ]
    }
   ],
   "source": [
    "# negative indexing: to access element from the last of the array.\n",
    "arr = np.array([[1,2,3,4,5],[6,7,8,9,10]])\n",
    "# last element from the 2nd dimension\n",
    "print(arr[1,-1])\n",
    "print(arr[-1,-1])"
   ]
  },
  {
   "cell_type": "code",
   "execution_count": 32,
   "metadata": {},
   "outputs": [
    {
     "name": "stdout",
     "output_type": "stream",
     "text": [
      "[2 3 4 5]\n",
      "[5 6 7]\n",
      "[1 2 3 4]\n"
     ]
    }
   ],
   "source": [
    "# array slicing: [start:end(exclusive):step] (default values: start(=0), end(=len(arr)), step(=1))\n",
    "arr = np.array([1,2,3,4,5,6,7])\n",
    "print(arr[1:5]) # 1(=inclusive) & 5(=exclusive)\n",
    "print(arr[4:])\n",
    "print(arr[:4])\n",
    "\n"
   ]
  },
  {
   "cell_type": "code",
   "execution_count": 34,
   "metadata": {},
   "outputs": [
    {
     "name": "stdout",
     "output_type": "stream",
     "text": [
      "[5 6]\n"
     ]
    }
   ],
   "source": [
    "# negative slicing: use the minus operator to refer to an index from the end\n",
    "import numpy as np\n",
    "arr = np.array([1,2,3,4,5,6,7])\n",
    "# slice from the index 3 from the end (=5) to index 1 from the end (=7 but exclusive) \n",
    "print(arr[-3:-1])\n"
   ]
  },
  {
   "cell_type": "code",
   "execution_count": 37,
   "metadata": {},
   "outputs": [
    {
     "name": "stdout",
     "output_type": "stream",
     "text": [
      "[2 4]\n",
      "[1 3 5 7]\n"
     ]
    }
   ],
   "source": [
    "# return every other (or alternate) element from index 1 to index 5\n",
    "import numpy as np\n",
    "arr = np.array([1,2,3,4,5,6,7])\n",
    "print(arr[1:5:2])\n",
    "# return every other element from the entire array\n",
    "print(arr[::2])"
   ]
  },
  {
   "cell_type": "code",
   "execution_count": 44,
   "metadata": {},
   "outputs": [
    {
     "name": "stdout",
     "output_type": "stream",
     "text": [
      "[7 8 9]\n",
      "[3 8]\n",
      "[[2 3 4]\n",
      " [7 8 9]]\n"
     ]
    }
   ],
   "source": [
    "# slicing 2d array\n",
    "import numpy as np\n",
    "arr = np.array([[1,2,3,4,5],[6,7,8,9,10]])\n",
    "# from the 2nd element (row=1), slice elements from index 1 to index 4 (not included)\n",
    "print(arr[1,1:4])\n",
    "# from both elements, return index 2\n",
    "print(arr[:,2]) # or print(arr[0:2,2])\n",
    "# from both elements, slice index 1 to index 4 (not included), this will return a 2d array\n",
    "print(arr[:,1:4]) # or print(arr[0:2,1:4])"
   ]
  },
  {
   "cell_type": "markdown",
   "metadata": {},
   "source": [
    "### numpy data-types\n",
    "\n",
    "* i - integers\n",
    "* b - boolean\n",
    "* u - unsigned int\n",
    "* f - float\n",
    "* c - complex float\n",
    "* m - timedelta\n",
    "* M - datetime\n",
    "* O - object\n",
    "* S - string\n",
    "* U - unicode string\n",
    "* V - fixed chunk of memory for other type(void)"
   ]
  },
  {
   "cell_type": "code",
   "execution_count": null,
   "metadata": {},
   "outputs": [
    {
     "name": "stdout",
     "output_type": "stream",
     "text": [
      "int64\n"
     ]
    }
   ],
   "source": [
    "arr = np.array([1,2,3,4,5])\n",
    "print(arr.dtype)"
   ]
  },
  {
   "cell_type": "code",
   "execution_count": 5,
   "metadata": {},
   "outputs": [
    {
     "name": "stdout",
     "output_type": "stream",
     "text": [
      "<U6\n"
     ]
    }
   ],
   "source": [
    "arr = np.array(['apple', 'banana', 'cherry'])\n",
    "print(arr.dtype)"
   ]
  },
  {
   "cell_type": "code",
   "execution_count": 9,
   "metadata": {},
   "outputs": [
    {
     "name": "stdout",
     "output_type": "stream",
     "text": [
      "[b'1' b'2' b'3' b'4' b'5']\n",
      "|S1\n"
     ]
    }
   ],
   "source": [
    "# creating array with defined data-type\n",
    "arr = np.array([1,2,3,4,5], dtype='S')\n",
    "print(arr)\n",
    "print(arr.dtype)"
   ]
  },
  {
   "cell_type": "markdown",
   "metadata": {},
   "source": [
    "* The b prefix indicates that each element is a byte string.\n",
    "* The data type is 'S1', indicating each string's fixed size of 1 character.\n",
    "*  The | symbol before the data type (like |S1) represents the byte order, also known as endianness. "
   ]
  },
  {
   "cell_type": "code",
   "execution_count": 10,
   "metadata": {},
   "outputs": [],
   "source": [
    "# note: for i, u, f, S and U we can define size as well."
   ]
  },
  {
   "cell_type": "code",
   "execution_count": 11,
   "metadata": {},
   "outputs": [
    {
     "name": "stdout",
     "output_type": "stream",
     "text": [
      "[[1 1 1 1]\n",
      " [2 2 2 2]\n",
      " [3 3 3 3]\n",
      " [4 4 4 4]\n",
      " [5 5 5 5]]\n",
      "int32\n"
     ]
    }
   ],
   "source": [
    "# create an array with data type 4 bytes integer\n",
    "arr = np.array([1,2,3,4,5], dtype='4i')\n",
    "print(arr)\n",
    "print(arr.dtype)"
   ]
  },
  {
   "cell_type": "markdown",
   "metadata": {},
   "source": [
    "ValueError: In Python ValueError is raised when the type of passed argument to a function is unexpected/incorrect."
   ]
  },
  {
   "cell_type": "code",
   "execution_count": 12,
   "metadata": {},
   "outputs": [
    {
     "ename": "ValueError",
     "evalue": "invalid literal for int() with base 10: 'a'",
     "output_type": "error",
     "traceback": [
      "\u001b[1;31m---------------------------------------------------------------------------\u001b[0m",
      "\u001b[1;31mValueError\u001b[0m                                Traceback (most recent call last)",
      "Cell \u001b[1;32mIn[12], line 1\u001b[0m\n\u001b[1;32m----> 1\u001b[0m arr \u001b[38;5;241m=\u001b[39m \u001b[43mnp\u001b[49m\u001b[38;5;241;43m.\u001b[39;49m\u001b[43marray\u001b[49m\u001b[43m(\u001b[49m\u001b[43m[\u001b[49m\u001b[38;5;124;43m'\u001b[39;49m\u001b[38;5;124;43ma\u001b[39;49m\u001b[38;5;124;43m'\u001b[39;49m\u001b[43m,\u001b[49m\u001b[38;5;124;43m'\u001b[39;49m\u001b[38;5;124;43m2\u001b[39;49m\u001b[38;5;124;43m'\u001b[39;49m\u001b[43m,\u001b[49m\u001b[38;5;124;43m'\u001b[39;49m\u001b[38;5;124;43m3\u001b[39;49m\u001b[38;5;124;43m'\u001b[39;49m\u001b[43m]\u001b[49m\u001b[43m,\u001b[49m\u001b[43m \u001b[49m\u001b[43mdtype\u001b[49m\u001b[38;5;241;43m=\u001b[39;49m\u001b[38;5;124;43m'\u001b[39;49m\u001b[38;5;124;43mi\u001b[39;49m\u001b[38;5;124;43m'\u001b[39;49m\u001b[43m)\u001b[49m\n",
      "\u001b[1;31mValueError\u001b[0m: invalid literal for int() with base 10: 'a'"
     ]
    }
   ],
   "source": [
    "arr = np.array(['a','2','3'], dtype='i')"
   ]
  },
  {
   "cell_type": "code",
   "execution_count": null,
   "metadata": {},
   "outputs": [
    {
     "name": "stdout",
     "output_type": "stream",
     "text": [
      "[1.1 2.1 3.1] float64\n",
      "[1 2 3] int32\n"
     ]
    }
   ],
   "source": [
    "# astype() function creates a copy of the array and allows you to specify the data-type as a parameter.\n",
    "arr = np.array([1.1, 2.1, 3.1])\n",
    "print(arr, arr.dtype)\n",
    "new_arr = arr.astype('i')\n",
    "print(new_arr, new_arr.dtype)"
   ]
  },
  {
   "cell_type": "code",
   "execution_count": 28,
   "metadata": {},
   "outputs": [
    {
     "name": "stdout",
     "output_type": "stream",
     "text": [
      "[1.1 2.2 3.3 4.4 5.5] float64\n",
      "[1 2 3 4 5] int64\n"
     ]
    }
   ],
   "source": [
    "# change data-type from float to integer using int as a parameter value\n",
    "arr = np.array([1.1,2.2,3.3,4.4,5.5])\n",
    "print(arr, arr.dtype)\n",
    "new_arr = arr.astype(int)\n",
    "print(new_arr, new_arr.dtype)"
   ]
  },
  {
   "cell_type": "code",
   "execution_count": 30,
   "metadata": {},
   "outputs": [
    {
     "name": "stdout",
     "output_type": "stream",
     "text": [
      "[1 0 3] int64\n",
      "[ True False  True] bool\n",
      "2020195564880 2020200316816\n"
     ]
    }
   ],
   "source": [
    "# change data-type from integer to boolean\n",
    "arr = np.array([1, 0, 3])\n",
    "print(arr, arr.dtype)\n",
    "new_arr = arr.astype(bool)\n",
    "print(new_arr, new_arr.dtype)\n",
    "print(id(arr), id(new_arr))"
   ]
  },
  {
   "cell_type": "markdown",
   "metadata": {},
   "source": [
    "### Copy & View"
   ]
  },
  {
   "cell_type": "code",
   "execution_count": 33,
   "metadata": {},
   "outputs": [
    {
     "name": "stdout",
     "output_type": "stream",
     "text": [
      "arr = [1 2 3 4 5]\n",
      "arr = [0 2 3 4 5]\n",
      "x = [1 2 3 4 5]\n"
     ]
    }
   ],
   "source": [
    "# make a copy, change the original array and display both arrays\n",
    "arr = np.array([1, 2, 3, 4, 5])\n",
    "print(\"arr =\",arr)\n",
    "x = arr.copy()\n",
    "arr[0] = 0\n",
    "print(\"arr =\",arr)\n",
    "print(\"x =\",x)"
   ]
  },
  {
   "cell_type": "code",
   "execution_count": 34,
   "metadata": {},
   "outputs": [
    {
     "name": "stdout",
     "output_type": "stream",
     "text": [
      "arr = [1 2 3 4 5]\n",
      "arr = [0 2 3 4 5]\n",
      "x = [0 2 3 4 5]\n"
     ]
    }
   ],
   "source": [
    "# make a view, change the original array and display both arrays\n",
    "arr = np.array([1, 2, 3, 4, 5])\n",
    "print(\"arr =\",arr)\n",
    "x = arr.view()\n",
    "arr[0] = 0\n",
    "print(\"arr =\",arr)\n",
    "print(\"x =\",x)"
   ]
  },
  {
   "cell_type": "code",
   "execution_count": 35,
   "metadata": {},
   "outputs": [
    {
     "name": "stdout",
     "output_type": "stream",
     "text": [
      "arr = [1 2 3 4 5]\n",
      "arr = [0 2 3 4 5]\n",
      "x = [0 2 3 4 5]\n"
     ]
    }
   ],
   "source": [
    "# make a view, change the view and display both arrays\n",
    "arr = np.array([1, 2, 3, 4, 5])\n",
    "print(\"arr =\",arr)\n",
    "x = arr.view()\n",
    "x[0] = 0\n",
    "print(\"arr =\",arr)\n",
    "print(\"x =\",x)"
   ]
  },
  {
   "cell_type": "code",
   "execution_count": 36,
   "metadata": {},
   "outputs": [
    {
     "data": {
      "text/plain": [
       "' copies owns the data, and view does not own the data '"
      ]
     },
     "execution_count": 36,
     "metadata": {},
     "output_type": "execute_result"
    }
   ],
   "source": [
    "# check if array owns its data\n",
    "''' copies owns the data, and view does not own the data '''"
   ]
  },
  {
   "cell_type": "code",
   "execution_count": null,
   "metadata": {},
   "outputs": [],
   "source": [
    "# numpy array has an attribute `base` that returns None if the array owns the data \n",
    "# else refers to the original object (print the array)"
   ]
  },
  {
   "cell_type": "code",
   "execution_count": null,
   "metadata": {},
   "outputs": [
    {
     "name": "stdout",
     "output_type": "stream",
     "text": [
      "None\n",
      "[1 2 3 4 5]\n"
     ]
    }
   ],
   "source": [
    "arr = np.array([1,2,3,4,5])\n",
    "x = arr.copy()\n",
    "y = arr.view()\n",
    "\n",
    "print(x.base)\n",
    "print(y.base) # print arr"
   ]
  },
  {
   "cell_type": "markdown",
   "metadata": {},
   "source": [
    "* The copy returns None\n",
    "* The view returns the original array"
   ]
  },
  {
   "cell_type": "markdown",
   "metadata": {},
   "source": [
    "### NumPy Array Shape\n",
    "using `shape` attribute"
   ]
  },
  {
   "cell_type": "code",
   "execution_count": null,
   "metadata": {},
   "outputs": [
    {
     "name": "stdout",
     "output_type": "stream",
     "text": [
      "(2, 3)\n",
      "2\n"
     ]
    }
   ],
   "source": [
    "arr = np.array([[1,2,3],[4,5,6]])\n",
    "print(arr.shape) # (2, 3)\n",
    "\n",
    "print(len(arr.shape)) # 2 => two dimensional array"
   ]
  },
  {
   "cell_type": "code",
   "execution_count": 45,
   "metadata": {},
   "outputs": [
    {
     "name": "stdout",
     "output_type": "stream",
     "text": [
      "[[[[[1 2 3 4]]]]]\n",
      "shape of array: (1, 1, 1, 1, 4)\n"
     ]
    }
   ],
   "source": [
    "# create an array with 5 dimensions using `ndmin` using a vector with values 1,2,3,4 and \n",
    "# verify that last dimension has value 4\n",
    "\n",
    "arr = np.array([1,2,3,4], ndmin=5)\n",
    "print(arr)\n",
    "print(\"shape of array:\",arr.shape) # each element of shape tuple represent the number of elements in a dimension."
   ]
  },
  {
   "cell_type": "markdown",
   "metadata": {},
   "source": [
    "Ques: What does the shape tuple represent?\n",
    "\n",
    "Ans: Integers at every index tells about the number of elements the corresponding dimension has.\n",
    "* In the example above at index-4 we have value 4, so we can say that 5th (4+1th) dimension has 4 elements."
   ]
  },
  {
   "cell_type": "markdown",
   "metadata": {},
   "source": [
    "### NumPy Array ReShaping\n",
    "using `reshape()` method"
   ]
  },
  {
   "cell_type": "code",
   "execution_count": null,
   "metadata": {},
   "outputs": [
    {
     "name": "stdout",
     "output_type": "stream",
     "text": [
      "[[ 1  2  3]\n",
      " [ 4  5  6]\n",
      " [ 7  8  9]\n",
      " [10 11 12]]\n"
     ]
    }
   ],
   "source": [
    "# reshape from 1D to 2D such that outermost dimension will have 4 arrays, each with 3 elements.\n",
    "arr = np.array([1,2,3,4,5,6,7,8,9,10,11,12])\n",
    "new_arr = arr.reshape(4,3) #(rows, cols)\n",
    "print(new_arr)"
   ]
  },
  {
   "cell_type": "code",
   "execution_count": 47,
   "metadata": {},
   "outputs": [
    {
     "name": "stdout",
     "output_type": "stream",
     "text": [
      "[[[ 1  2]\n",
      "  [ 3  4]\n",
      "  [ 5  6]]\n",
      "\n",
      " [[ 7  8]\n",
      "  [ 9 10]\n",
      "  [11 12]]]\n"
     ]
    }
   ],
   "source": [
    "# reshape from 1D to 3D such that outermost dimension will have 2 arrays that contains 3 arrays, each with 2 elements.\n",
    "arr = np.array([1,2,3,4,5,6,7,8,9,10,11,12])\n",
    "new_arr = arr.reshape(2,3,2) #(,depth/height, rows, cols)\n",
    "print(new_arr)"
   ]
  },
  {
   "cell_type": "markdown",
   "metadata": {},
   "source": [
    "Ques: Can we Reshape into any Shape?\n",
    "\n",
    "Ans: Yes, as long as the elements required for reshaping are equal in both shapes."
   ]
  },
  {
   "cell_type": "code",
   "execution_count": null,
   "metadata": {},
   "outputs": [
    {
     "ename": "ValueError",
     "evalue": "cannot reshape array of size 8 into shape (3,3)",
     "output_type": "error",
     "traceback": [
      "\u001b[1;31m---------------------------------------------------------------------------\u001b[0m",
      "\u001b[1;31mValueError\u001b[0m                                Traceback (most recent call last)",
      "Cell \u001b[1;32mIn[48], line 3\u001b[0m\n\u001b[0;32m      1\u001b[0m \u001b[38;5;66;03m# Try converting 1D array with 8 elements to a 2D array with 3 elements in each dimension\u001b[39;00m\n\u001b[0;32m      2\u001b[0m arr \u001b[38;5;241m=\u001b[39m np\u001b[38;5;241m.\u001b[39marray([\u001b[38;5;241m1\u001b[39m,\u001b[38;5;241m2\u001b[39m,\u001b[38;5;241m3\u001b[39m,\u001b[38;5;241m4\u001b[39m,\u001b[38;5;241m5\u001b[39m,\u001b[38;5;241m6\u001b[39m,\u001b[38;5;241m7\u001b[39m,\u001b[38;5;241m8\u001b[39m])\n\u001b[1;32m----> 3\u001b[0m new_arr \u001b[38;5;241m=\u001b[39m \u001b[43marr\u001b[49m\u001b[38;5;241;43m.\u001b[39;49m\u001b[43mreshape\u001b[49m\u001b[43m(\u001b[49m\u001b[38;5;241;43m3\u001b[39;49m\u001b[43m,\u001b[49m\u001b[38;5;241;43m3\u001b[39;49m\u001b[43m)\u001b[49m\n\u001b[0;32m      4\u001b[0m \u001b[38;5;28mprint\u001b[39m(new_arr)\n",
      "\u001b[1;31mValueError\u001b[0m: cannot reshape array of size 8 into shape (3,3)"
     ]
    }
   ],
   "source": [
    "# Try converting 1D array with 8 elements to a 2D array with 3 elements in each dimension\n",
    "arr = np.array([1,2,3,4,5,6,7,8])\n",
    "new_arr = arr.reshape(3,3)\n",
    "print(new_arr) # will raise an error"
   ]
  },
  {
   "cell_type": "code",
   "execution_count": null,
   "metadata": {},
   "outputs": [
    {
     "name": "stdout",
     "output_type": "stream",
     "text": [
      "[1 2 3 4 5 6 7 8 9]\n"
     ]
    }
   ],
   "source": [
    "# check reshape() method returns copy or view?\n",
    "arr = np.array([1,2,3,4,5,6,7,8,9])\n",
    "print(arr.reshape(3,3).base) "
   ]
  },
  {
   "cell_type": "markdown",
   "metadata": {},
   "source": [
    "* It is returning the original array, so it is a view."
   ]
  },
  {
   "cell_type": "markdown",
   "metadata": {},
   "source": [
    "#### Unknown Dimension"
   ]
  },
  {
   "cell_type": "code",
   "execution_count": 51,
   "metadata": {},
   "outputs": [],
   "source": [
    "# You are allowed to have one \"unknown\" dimension, means you don't have to \n",
    "# specify an exact number for one of the dimensions in the reshape method.\n",
    "# pass -1 as the value and numpy will implicitly calculate its value"
   ]
  },
  {
   "cell_type": "code",
   "execution_count": 58,
   "metadata": {},
   "outputs": [
    {
     "name": "stdout",
     "output_type": "stream",
     "text": [
      "[[[1 2]\n",
      "  [3 4]]\n",
      "\n",
      " [[5 6]\n",
      "  [7 8]]]\n",
      "shape of reshaped array: (2, 2, 2)\n"
     ]
    }
   ],
   "source": [
    "# convert 1d array with 8 elements to 3d array with 2x2 elements\n",
    "arr = np.array([1,2,3,4,5,6,7,8])\n",
    "new_arr = arr.reshape(2,2,-1)\n",
    "print(new_arr)\n",
    "print(\"shape of reshaped array:\",new_arr.shape)"
   ]
  },
  {
   "cell_type": "markdown",
   "metadata": {},
   "source": [
    "* Note: We can't pass -1 to more than one dimension."
   ]
  },
  {
   "cell_type": "markdown",
   "metadata": {},
   "source": [
    "#### Flattening the Arrays"
   ]
  },
  {
   "cell_type": "code",
   "execution_count": 61,
   "metadata": {},
   "outputs": [],
   "source": [
    "# It means converting a multidimensional array into a 1d array.\n",
    "# We can use reshape(-1) to do this."
   ]
  },
  {
   "cell_type": "code",
   "execution_count": 62,
   "metadata": {},
   "outputs": [
    {
     "name": "stdout",
     "output_type": "stream",
     "text": [
      "[1 2 3 4 5 6]\n"
     ]
    }
   ],
   "source": [
    "# convert the array into a 1d array\n",
    "arr = np.array([[1,2,3],[4,5,6]])\n",
    "new_arr = arr.reshape(-1)\n",
    "print(new_arr)"
   ]
  },
  {
   "cell_type": "markdown",
   "metadata": {},
   "source": [
    "Functions for flatten a multi-dimensional array into a 1-dimensional array in NumPy\n",
    "* `flatten`\n",
    "* `ravel`"
   ]
  },
  {
   "cell_type": "markdown",
   "metadata": {},
   "source": [
    "Functions for rearranging the elements in arrays in NumPy\n",
    "* `rot90`\n",
    "* `flip`\n",
    "* `fliplr`\n",
    "* `flipud`"
   ]
  },
  {
   "cell_type": "code",
   "execution_count": null,
   "metadata": {},
   "outputs": [
    {
     "name": "stdout",
     "output_type": "stream",
     "text": [
      "[0 2 3 4 5 6 7 8]\n",
      "[[1 2 3 4]\n",
      " [5 6 7 8]]\n"
     ]
    }
   ],
   "source": [
    "# flatten(): return copy of the original array\n",
    "arr = np.array([[1,2,3,4],[5,6,7,8]])\n",
    "new_arr = arr.flatten()\n",
    "new_arr[0] = 0\n",
    "print(new_arr)\n",
    "print(arr)"
   ]
  },
  {
   "cell_type": "code",
   "execution_count": 67,
   "metadata": {},
   "outputs": [
    {
     "name": "stdout",
     "output_type": "stream",
     "text": [
      "[0 2 3 4 5 6 7 8]\n",
      "[[0 2 3 4]\n",
      " [5 6 7 8]]\n"
     ]
    }
   ],
   "source": [
    "# ravel(): return only reference/view of the original array\n",
    "arr = np.array([[1,2,3,4],[5,6,7,8]])\n",
    "new_arr = arr.ravel()\n",
    "new_arr[0] = 0\n",
    "print(new_arr)\n",
    "print(arr)"
   ]
  },
  {
   "cell_type": "code",
   "execution_count": null,
   "metadata": {},
   "outputs": [
    {
     "name": "stdout",
     "output_type": "stream",
     "text": [
      "[[1 2 3 4]\n",
      " [5 6 7 8]]\n",
      "[[4 8]\n",
      " [3 7]\n",
      " [2 6]\n",
      " [1 5]]\n"
     ]
    }
   ],
   "source": [
    "# rot90(): rotate 90 degrees (counterclockwise)\n",
    "arr = np.array([[1,2,3,4],[5,6,7,8]])\n",
    "print(arr)\n",
    "new_arr = np.rot90(arr)\n",
    "print(new_arr)"
   ]
  },
  {
   "cell_type": "code",
   "execution_count": 77,
   "metadata": {},
   "outputs": [
    {
     "name": "stdout",
     "output_type": "stream",
     "text": [
      "arr = [1 2 3 4 5]\n",
      "flipped arr = [5 4 3 2 1]\n",
      "arr =\n",
      " [[1 2 3]\n",
      " [4 5 6]]\n",
      "flipped arr =\n",
      " [[6 5 4]\n",
      " [3 2 1]]\n"
     ]
    }
   ],
   "source": [
    "# flip(): flips (reverses) the elements along each axes\n",
    "\n",
    "# 1d array\n",
    "arr1 = np.array([1,2,3,4,5])\n",
    "print(\"arr =\",arr1)\n",
    "new_arr1 = np.flip(arr1)\n",
    "print(\"flipped arr =\",new_arr1)\n",
    "\n",
    "# 2d array\n",
    "arr2 = np.array([[1,2,3],[4,5,6]])\n",
    "print(\"arr =\\n\",arr2)\n",
    "new_arr2 = np.flip(arr2)\n",
    "print(\"flipped arr =\\n\",new_arr2)"
   ]
  },
  {
   "cell_type": "code",
   "execution_count": 79,
   "metadata": {},
   "outputs": [
    {
     "name": "stdout",
     "output_type": "stream",
     "text": [
      "arr =\n",
      " [[1 2 3]\n",
      " [4 5 6]]\n",
      "flipped arr =\n",
      " [[3 2 1]\n",
      " [6 5 4]]\n"
     ]
    }
   ],
   "source": [
    "# fliplr(): flips (reverses) the elements left to right\n",
    "# fliplr() can only be used with 2D arrays\n",
    "\n",
    "# 2d array\n",
    "arr = np.array([[1,2,3],[4,5,6]])\n",
    "print(\"arr =\\n\",arr)\n",
    "new_arr = np.fliplr(arr)\n",
    "print(\"flipped arr =\\n\",new_arr)"
   ]
  },
  {
   "cell_type": "code",
   "execution_count": 80,
   "metadata": {},
   "outputs": [
    {
     "name": "stdout",
     "output_type": "stream",
     "text": [
      "arr =\n",
      " [[1 2 3]\n",
      " [4 5 6]]\n",
      "flipped arr =\n",
      " [[4 5 6]\n",
      " [1 2 3]]\n"
     ]
    }
   ],
   "source": [
    "# flipud(): flips (reverses) the elements up to down\n",
    "# flipud() can only be used with 2D arrays\n",
    "\n",
    "# 2d array\n",
    "arr = np.array([[1,2,3],[4,5,6]])\n",
    "print(\"arr =\\n\",arr)\n",
    "new_arr = np.flipud(arr)\n",
    "print(\"flipped arr =\\n\",new_arr)"
   ]
  },
  {
   "cell_type": "markdown",
   "metadata": {},
   "source": [
    "#### Iterating Arrays"
   ]
  },
  {
   "cell_type": "code",
   "execution_count": null,
   "metadata": {},
   "outputs": [
    {
     "name": "stdout",
     "output_type": "stream",
     "text": [
      "1\n",
      "2\n",
      "3\n",
      "4\n",
      "5\n"
     ]
    }
   ],
   "source": [
    "# 1d arrays\n",
    "a = np.array([1,2,3,4,5])\n",
    "for x in a: # x is an integer\n",
    "    print(x)"
   ]
  },
  {
   "cell_type": "code",
   "execution_count": 87,
   "metadata": {},
   "outputs": [
    {
     "name": "stdout",
     "output_type": "stream",
     "text": [
      "[1 2 3]\n",
      "[4 5 6]\n",
      "1\n",
      "2\n",
      "3\n",
      "4\n",
      "5\n",
      "6\n"
     ]
    }
   ],
   "source": [
    "# 2d arrays\n",
    "b = np.array([[1,2,3],[4,5,6]])\n",
    "for x in b: # x is a 1d array\n",
    "    print(x)\n",
    "\n",
    "for x in b: # x is a 1d array\n",
    "    for y in x: # y is an integer\n",
    "        print(y) "
   ]
  },
  {
   "cell_type": "code",
   "execution_count": null,
   "metadata": {},
   "outputs": [
    {
     "name": "stdout",
     "output_type": "stream",
     "text": [
      "1\n",
      "2\n",
      "3\n",
      "4\n",
      "5\n",
      "6\n",
      "7\n",
      "8\n"
     ]
    }
   ],
   "source": [
    "# 3d arrays\n",
    "c = np.array([[[1,2],[3,4]],[[5,6],[7,8]]])\n",
    "for x in c: # x is a 2d array\n",
    "    for y in x: # y is a 1d array\n",
    "        for n in y: # n is an integer\n",
    "            print(n)"
   ]
  },
  {
   "cell_type": "markdown",
   "metadata": {},
   "source": [
    "#### Iterating Arrays Using `nditer()`"
   ]
  },
  {
   "cell_type": "code",
   "execution_count": null,
   "metadata": {},
   "outputs": [
    {
     "name": "stdout",
     "output_type": "stream",
     "text": [
      "1\n",
      "2\n",
      "3\n",
      "4\n",
      "5\n",
      "6\n",
      "7\n",
      "8\n"
     ]
    }
   ],
   "source": [
    "# 3d integer array\n",
    "arr = np.array([[[1,2],[3,4]],[[5,6],[7,8]]])\n",
    "for n in np.nditer(arr):\n",
    "    print(n)"
   ]
  },
  {
   "cell_type": "code",
   "execution_count": null,
   "metadata": {},
   "outputs": [],
   "source": []
  }
 ],
 "metadata": {
  "kernelspec": {
   "display_name": "Python 3",
   "language": "python",
   "name": "python3"
  },
  "language_info": {
   "codemirror_mode": {
    "name": "ipython",
    "version": 3
   },
   "file_extension": ".py",
   "mimetype": "text/x-python",
   "name": "python",
   "nbconvert_exporter": "python",
   "pygments_lexer": "ipython3",
   "version": "3.12.4"
  }
 },
 "nbformat": 4,
 "nbformat_minor": 2
}
